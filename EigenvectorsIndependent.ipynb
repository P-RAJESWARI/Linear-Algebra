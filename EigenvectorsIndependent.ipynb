{
  "nbformat": 4,
  "nbformat_minor": 0,
  "metadata": {
    "colab": {
      "provenance": [],
      "authorship_tag": "ABX9TyOGb3hM95uZqQ8+ZHvLOpxh",
      "include_colab_link": true
    },
    "kernelspec": {
      "name": "python3",
      "display_name": "Python 3"
    },
    "language_info": {
      "name": "python"
    }
  },
  "cells": [
    {
      "cell_type": "markdown",
      "metadata": {
        "id": "view-in-github",
        "colab_type": "text"
      },
      "source": [
        "<a href=\"https://colab.research.google.com/github/P-RAJESWARI/Linear-Algebra/blob/main/EigenvectorsIndependent.ipynb\" target=\"_parent\"><img src=\"https://colab.research.google.com/assets/colab-badge.svg\" alt=\"Open In Colab\"/></a>"
      ]
    },
    {
      "cell_type": "markdown",
      "source": [
        "Let the matrix be [[2,1,0]\n",
        "                   [1,3,-1]\n",
        "                   [0,-1,4]]\n",
        "\n",
        "                   \n",
        "Write a piece of code to calculate the eigenvalue and eigenvector of matrix A.\n",
        "You may use Python functions to do calculate them.\n",
        "How can you verify that the eigenvectors that correspond to distinct eigenvalues\n",
        "are independent? Is there a way to code it in Python? Clue : Reduced Row\n",
        "Echelon."
      ],
      "metadata": {
        "id": "PD8B2N04XBcq"
      }
    },
    {
      "cell_type": "markdown",
      "source": [
        "We find the Eigenvalues and Eigenvectors of the above matrix.If we get distinct eigen values,we have to prove that the eigenvectors that corresponds to that eigenvalues are independent vectors.For that ,we have to use Reduced Row Echolon Form (RREF),In that if the number of pivot columns matches the number of distinct eigenvalues, it suggests that the eigenvectors corresponding to distinct eigenvalues are independent."
      ],
      "metadata": {
        "id": "hVtc27GNXc_X"
      }
    },
    {
      "cell_type": "code",
      "execution_count": 10,
      "metadata": {
        "id": "r7FDgmSQmWDM"
      },
      "outputs": [],
      "source": [
        "#importing numpy to define the matrix as 2-Dimensional numpy array and to perform linear algebra operations such as Finding Eigen values ,Eigen vectors etc...\n",
        "#importing sympy to find the RREF of the matrix and number of pivot columns\n",
        "import numpy as np\n",
        "import sympy"
      ]
    },
    {
      "cell_type": "code",
      "source": [
        "# Define your matrix A as 2-Dimensional numpy array\n",
        "matrix = np.array([[2, 1, 0], [1, 3, -1],[0, -1, 4]])"
      ],
      "metadata": {
        "id": "qum5HgIhmfAK"
      },
      "execution_count": 12,
      "outputs": []
    },
    {
      "cell_type": "code",
      "source": [
        "# Calculate eigenvalues and eigenvectors of the given matrix\n",
        "eigenvalues, eigenvectors = np.linalg.eig(matrix)"
      ],
      "metadata": {
        "id": "292a9aTPmpHQ"
      },
      "execution_count": 13,
      "outputs": []
    },
    {
      "cell_type": "code",
      "source": [
        "# Print the results\n",
        "# Print Eigen values\n",
        "print(\"Eigenvalues:\")\n",
        "print(eigenvalues)\n",
        "# Print Eigen vectors\n",
        "print(\"\\nEigenvectors:\")\n",
        "print(eigenvectors)"
      ],
      "metadata": {
        "colab": {
          "base_uri": "https://localhost:8080/"
        },
        "id": "9eIay5KgmrKN",
        "outputId": "68f97b84-def3-4fe9-ea0e-068956214a18"
      },
      "execution_count": 14,
      "outputs": [
        {
          "output_type": "stream",
          "name": "stdout",
          "text": [
            "Eigenvalues:\n",
            "[1.26794919 3.         4.73205081]\n",
            "\n",
            "Eigenvectors:\n",
            "[[-0.78867513 -0.57735027 -0.21132487]\n",
            " [ 0.57735027 -0.57735027 -0.57735027]\n",
            " [ 0.21132487 -0.57735027  0.78867513]]\n"
          ]
        }
      ]
    },
    {
      "cell_type": "markdown",
      "source": [
        "1.**Check if Eigenvalues are Distinct:**\n",
        "\n",
        "We first calculate the eigenvalues of a matrix.\n",
        "If all the eigenvalues are different, we say they are distinct. Otherwise, they are not distinct (meaning there are repeated eigenvalues).\n",
        "\n",
        "2.**Form Matrix with Eigenvectors:**\n",
        "\n",
        "For each distinct eigenvalue, we find its corresponding eigenvector(s).\n",
        "We put these eigenvectors into a matrix where each column represents an eigenvector.\n",
        "\n",
        "3.**Convert Matrix to RREF:**\n",
        "\n",
        "We then simplify this matrix using a method called Reduced Row Echelon Form (RREF). Think of this as organizing the matrix in a special way where some rows and columns are made simpler.\n",
        "\n",
        "4.**Check if RREF has Full Rank:**\n",
        "\n",
        "After simplifying the matrix, we check if it has full rank. Full rank means that every column in the simplified matrix is important and none can be expressed as a combination of others.\n",
        "If the number of important columns (called pivot columns) is the same as the number of distinct eigenvalues we found earlier, it means the eigenvectors corresponding to distinct eigenvalues are independent. Otherwise, they are dependent on each other."
      ],
      "metadata": {
        "id": "KqUyO0BGbH_J"
      }
    },
    {
      "cell_type": "code",
      "source": [
        "# Check if eigenvalues are distinct\n",
        "distinct_eigenvalues = np.unique(eigenvalues)\n",
        "if len(distinct_eigenvalues) != len(eigenvalues):\n",
        "    print(\"Eigenvalues are not distinct.\")\n",
        "else:\n",
        "    print(\"Eigenvalues are distinct.\")\n",
        "\n",
        "    # Form matrix with eigenvectors corresponding to distinct eigenvalues\n",
        "    eigenvectors_matrix = np.column_stack([eigenvectors[:,i] for i in range(len(eigenvalues))])\n",
        "\n",
        "    # Convert matrix to RREF\n",
        "    rref_matrix, pivot_columns = sympy.Matrix(eigenvectors_matrix).rref()\n",
        "\n",
        "    # Check if RREF has full rank\n",
        "    if len(pivot_columns) == len(distinct_eigenvalues):\n",
        "        print(\"Eigenvectors corresponding to distinct eigenvalues are independent.\")\n",
        "    else:\n",
        "        print(\"Eigenvectors corresponding to distinct eigenvalues are dependent.\")"
      ],
      "metadata": {
        "colab": {
          "base_uri": "https://localhost:8080/"
        },
        "id": "x-FA345mWMzG",
        "outputId": "b09bb198-1ada-42cf-ec64-5cb75e935aeb"
      },
      "execution_count": 9,
      "outputs": [
        {
          "output_type": "stream",
          "name": "stdout",
          "text": [
            "Eigenvalues are distinct.\n",
            "Eigenvectors corresponding to distinct eigenvalues are independent.\n"
          ]
        }
      ]
    }
  ]
}