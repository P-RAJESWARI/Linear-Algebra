{
  "nbformat": 4,
  "nbformat_minor": 0,
  "metadata": {
    "colab": {
      "provenance": [],
      "authorship_tag": "ABX9TyPnNKBp41p2kxRF8J+NGUY4",
      "include_colab_link": true
    },
    "kernelspec": {
      "name": "python3",
      "display_name": "Python 3"
    },
    "language_info": {
      "name": "python"
    }
  },
  "cells": [
    {
      "cell_type": "markdown",
      "metadata": {
        "id": "view-in-github",
        "colab_type": "text"
      },
      "source": [
        "<a href=\"https://colab.research.google.com/github/P-RAJESWARI/Linear-Algebra/blob/main/EigenVectors/EigenValuesVectors_Notebook6.ipynb\" target=\"_parent\"><img src=\"https://colab.research.google.com/assets/colab-badge.svg\" alt=\"Open In Colab\"/></a>"
      ]
    },
    {
      "cell_type": "markdown",
      "source": [
        "1. Consider the transition matrix where 1,2,3,4,5,6,7 are webpages.\n",
        "Assume an user starts from page 1 and reaches page 4.What happens to the user when he/she reaches the Page 4?\n",
        "\n",
        "When he/she reaches the page 4,he will end up with the probability of navigating to other page is 0.That is this page will not give importance to any other page.He/She will locked up in that page.\n",
        "\n",
        "This problem is known as **Dangling Problem**"
      ],
      "metadata": {
        "id": "5mpl8Y5rGS28"
      }
    },
    {
      "cell_type": "markdown",
      "source": [
        "\n",
        "2. Do you see other page that suffers from the same problem?\n",
        "\n",
        "If we observe keenly,page 7 also suffers from the same problem.This can be found by checking the diagonal elements.If the diagonal element ends up with the probability 1,then that creates **Dangling Problem**"
      ],
      "metadata": {
        "id": "2ydZKz2MGvI3"
      }
    },
    {
      "cell_type": "code",
      "source": [
        "import numpy as np"
      ],
      "metadata": {
        "id": "avNCDdu4N-6z"
      },
      "execution_count": 54,
      "outputs": []
    },
    {
      "cell_type": "code",
      "execution_count": 55,
      "metadata": {
        "id": "0SzqE8vS1E79"
      },
      "outputs": [],
      "source": [
        "A=np.array([[0,1/2,0,0,0,0,0],\n",
        " [0,0,1/3,0,1/2,0,0],\n",
        "  [1,0,0,0,0,1/3,0],\n",
        "   [0,0,1/3,1,0,0,0],\n",
        "    [0,1/2,0,0,0,1/3,0],\n",
        "   [0,0,1/3,0,1/2,0,0],\n",
        "   [0,0,0,0,0,1/3,1]])"
      ]
    },
    {
      "cell_type": "markdown",
      "source": [
        "**Problem** : Dangling Problem\n",
        "\n",
        "**Resolved by**: If the surfer reaches a dangling node,the sufer will pick any page in the web with equal probability and move to that page .If in transition matrix A,the problem is observed in the column j,then it can be solved by assigning the probability 1/length of the column or row (since it is a square matrix) in that column j."
      ],
      "metadata": {
        "id": "NN-_MSuzIkHm"
      }
    },
    {
      "cell_type": "code",
      "source": [
        "#detecting the dangling problem and resolving it by assigning equal probability\n",
        "def solvedangling(A):\n",
        "  leng=len(A)\n",
        "  for i in range(leng):\n",
        "    if(A[i][i]==1): #dangling problem\n",
        "      print(\"Page {0} has no outer link,it has link to itself\".format(i+1))\n",
        "      for j in range(leng):\n",
        "        A[j][i]=1/leng #resolving dangling problem that is assigning equal probability\n",
        ""
      ],
      "metadata": {
        "id": "VycOS2Wo7AjC"
      },
      "execution_count": 56,
      "outputs": []
    },
    {
      "cell_type": "code",
      "source": [
        "#The matrix with Dangling problem\n",
        "print(\"\\nThe Initial transition matrix\\n\")\n",
        "for row in A:\n",
        "  print(row)\n",
        "#The matrix with the Dangling problem being solved\n",
        "print(\"\\n Dangling problem is in the pages:\\n\")\n",
        "solvedangling(A)\n",
        "print(\"\\nThe transition matrix after detecting and solving Dangling problem\\n\")\n",
        "for row in A:\n",
        "  print(row)"
      ],
      "metadata": {
        "colab": {
          "base_uri": "https://localhost:8080/"
        },
        "id": "UPnvqV-a7HrM",
        "outputId": "f9f6d0b7-7efe-45cf-d87d-803041a7cea9"
      },
      "execution_count": 57,
      "outputs": [
        {
          "output_type": "stream",
          "name": "stdout",
          "text": [
            "\n",
            "The Initial transition matrix\n",
            "\n",
            "[0.  0.5 0.  0.  0.  0.  0. ]\n",
            "[0.         0.         0.33333333 0.         0.5        0.\n",
            " 0.        ]\n",
            "[1.         0.         0.         0.         0.         0.33333333\n",
            " 0.        ]\n",
            "[0.         0.         0.33333333 1.         0.         0.\n",
            " 0.        ]\n",
            "[0.         0.5        0.         0.         0.         0.33333333\n",
            " 0.        ]\n",
            "[0.         0.         0.33333333 0.         0.5        0.\n",
            " 0.        ]\n",
            "[0.         0.         0.         0.         0.         0.33333333\n",
            " 1.        ]\n",
            "\n",
            " Dangling problem is in the pages:\n",
            "\n",
            "Page 4 has no outer link,it has link to itself\n",
            "Page 7 has no outer link,it has link to itself\n",
            "\n",
            "The transition matrix after detecting and solving Dangling problem\n",
            "\n",
            "[0.         0.5        0.         0.14285714 0.         0.\n",
            " 0.14285714]\n",
            "[0.         0.         0.33333333 0.14285714 0.5        0.\n",
            " 0.14285714]\n",
            "[1.         0.         0.         0.14285714 0.         0.33333333\n",
            " 0.14285714]\n",
            "[0.         0.         0.33333333 0.14285714 0.         0.\n",
            " 0.14285714]\n",
            "[0.         0.5        0.         0.14285714 0.         0.33333333\n",
            " 0.14285714]\n",
            "[0.         0.         0.33333333 0.14285714 0.5        0.\n",
            " 0.14285714]\n",
            "[0.         0.         0.         0.14285714 0.         0.33333333\n",
            " 0.14285714]\n"
          ]
        }
      ]
    },
    {
      "cell_type": "markdown",
      "source": [
        "There could another problem occur,the problem of cycles.If the page i is linked to page j and page j is linked only to page i,a random suffer entering the page would be condemned to spend eternity hopping from page i to page j and back again.\n",
        "\n",
        "**Problem**: Problem of Cycles\n",
        "**Resolved by**: Constructing Google matrix G\n",
        "\n",
        "Let p be a number between **0 and 1**. Assume the surfer is now at page j. With probability **p** the surfer will pick from among all possible links from page j with equal probability and will move to that page. With probability **1-p**, the surfer will pick any page in the Web with equal probability and will move to that page. In terms of the transition matrix P., the new transition matrix will be\n",
        "\n",
        "**Google Matrix**,G = p*A+(1-p)*K\n"
      ],
      "metadata": {
        "id": "fuUEVSjjJ2w-"
      }
    },
    {
      "cell_type": "code",
      "source": [
        "#With probability 1-p ,the surfer may pick any page with the equal probability and move to another page\n",
        "leng=len(A)\n",
        "def constructkmatrix():\n",
        "   K=np.array([[1/leng for _ in range(leng)] for _ in range(leng)])\n",
        "   print(\"\\nThe matrix with equal probability \\n\")\n",
        "   for row in K:\n",
        "     print(row)\n",
        "   return K"
      ],
      "metadata": {
        "id": "oY7wwu8o9oTZ"
      },
      "execution_count": 58,
      "outputs": []
    },
    {
      "cell_type": "code",
      "source": [
        "K=constructkmatrix()"
      ],
      "metadata": {
        "colab": {
          "base_uri": "https://localhost:8080/"
        },
        "id": "KBYxR_9GBf1O",
        "outputId": "07238275-95b0-4165-fde4-6630c4a3f2db"
      },
      "execution_count": 59,
      "outputs": [
        {
          "output_type": "stream",
          "name": "stdout",
          "text": [
            "\n",
            "The matrix with equal probability \n",
            "\n",
            "[0.14285714 0.14285714 0.14285714 0.14285714 0.14285714 0.14285714\n",
            " 0.14285714]\n",
            "[0.14285714 0.14285714 0.14285714 0.14285714 0.14285714 0.14285714\n",
            " 0.14285714]\n",
            "[0.14285714 0.14285714 0.14285714 0.14285714 0.14285714 0.14285714\n",
            " 0.14285714]\n",
            "[0.14285714 0.14285714 0.14285714 0.14285714 0.14285714 0.14285714\n",
            " 0.14285714]\n",
            "[0.14285714 0.14285714 0.14285714 0.14285714 0.14285714 0.14285714\n",
            " 0.14285714]\n",
            "[0.14285714 0.14285714 0.14285714 0.14285714 0.14285714 0.14285714\n",
            " 0.14285714]\n",
            "[0.14285714 0.14285714 0.14285714 0.14285714 0.14285714 0.14285714\n",
            " 0.14285714]\n"
          ]
        }
      ]
    },
    {
      "cell_type": "markdown",
      "source": [
        "3. Derive Google Matrix for the problem?\n",
        "\n",
        "K- Matrix with equal probability to avoid cycles\n",
        "\n",
        "A- Transition matrix with dangling problem resolved\n",
        "\n",
        "p- with this probability,surfer will pick among existing links and move to another page\n",
        "\n",
        "1-p - with this probability,surfer will pick any page with the equal probability\n",
        "\n"
      ],
      "metadata": {
        "id": "tsmGsJqnL8zW"
      }
    },
    {
      "cell_type": "code",
      "source": [
        "def GoogleMatrix(A,K,p):\n",
        "  G=p*A+(1-p)*K #Google matrix\n",
        "  print(\"\\n The Google Matrix is\\n\")\n",
        "  for row in G:\n",
        "    print(row)\n",
        "  return G"
      ],
      "metadata": {
        "id": "GCx2kjGX-adJ"
      },
      "execution_count": 60,
      "outputs": []
    },
    {
      "cell_type": "code",
      "source": [
        "p=0.8\n",
        "G=GoogleMatrix(A,K,p)"
      ],
      "metadata": {
        "colab": {
          "base_uri": "https://localhost:8080/"
        },
        "id": "EI2Xn8MmClay",
        "outputId": "d911df99-43fd-433d-ca0f-808e8a2b4f2d"
      },
      "execution_count": 61,
      "outputs": [
        {
          "output_type": "stream",
          "name": "stdout",
          "text": [
            "\n",
            " The Google Matrix is\n",
            "\n",
            "[0.02857143 0.42857143 0.02857143 0.14285714 0.02857143 0.02857143\n",
            " 0.14285714]\n",
            "[0.02857143 0.02857143 0.2952381  0.14285714 0.42857143 0.02857143\n",
            " 0.14285714]\n",
            "[0.82857143 0.02857143 0.02857143 0.14285714 0.02857143 0.2952381\n",
            " 0.14285714]\n",
            "[0.02857143 0.02857143 0.2952381  0.14285714 0.02857143 0.02857143\n",
            " 0.14285714]\n",
            "[0.02857143 0.42857143 0.02857143 0.14285714 0.02857143 0.2952381\n",
            " 0.14285714]\n",
            "[0.02857143 0.02857143 0.2952381  0.14285714 0.42857143 0.02857143\n",
            " 0.14285714]\n",
            "[0.02857143 0.02857143 0.02857143 0.14285714 0.02857143 0.2952381\n",
            " 0.14285714]\n"
          ]
        }
      ]
    },
    {
      "cell_type": "code",
      "source": [
        "#Multiplication function of matrix and the vector\n",
        "def matrix_vector_multiply(A,v):\n",
        "    # Get the number of rows and columns in matrix A\n",
        "    arow = len(A)\n",
        "    acol = len(A[0])\n",
        "    # Get the length of vector v\n",
        "    veclen = len(v)\n",
        "\n",
        "    # Check if the number of columns in A is equal to the length of v for multiplication\n",
        "    if acol != veclen:\n",
        "        print(\"Multiplication cannot be done\")\n",
        "        return\n",
        "\n",
        "    # Initialize the result vector with zeros\n",
        "    result = [0 for _ in range(acol)]\n",
        "\n",
        "    # Perform matrix-vector multiplication\n",
        "    for i in range(arow):  # Loop over rows of A\n",
        "        for j in range(acol):  # Loop over columns of A\n",
        "            result[i] += A[i][j] * v[j]  # Accumulate the product of A[i][j] and v[j] in result[i]\n",
        "\n",
        "    return result\n",
        "\n",
        "\n",
        "\n"
      ],
      "metadata": {
        "id": "Iq6ihWb6B0I-"
      },
      "execution_count": 62,
      "outputs": []
    },
    {
      "cell_type": "code",
      "source": [
        "n=50\n",
        "x=np.array([1,0,0,0,0,0,0]) #starting from the first page\n",
        "for i in range(n):\n",
        "   x=matrix_vector_multiply(G,x) #performing 50 iterations approximately to get steady state vector\n",
        "print(\"\\nSteady State vector is \\n\")\n",
        "print(x)"
      ],
      "metadata": {
        "colab": {
          "base_uri": "https://localhost:8080/"
        },
        "id": "kraxiy3JB_sI",
        "outputId": "55330f0b-873c-4f06-8984-99249490b807"
      },
      "execution_count": 63,
      "outputs": [
        {
          "output_type": "stream",
          "name": "stdout",
          "text": [
            "\n",
            "Steady State vector is \n",
            "\n",
            "[0.11774063981602534, 0.1665695339203302, 0.18972388047946828, 0.10170586104241813, 0.16215918219478007, 0.1665695339203302, 0.09553136862664798]\n"
          ]
        }
      ]
    },
    {
      "cell_type": "code",
      "source": [
        "print(\"\\nRank of Each Page can be expressed as \\n\")\n",
        "leng=len(x)\n",
        "for i in range(leng):\n",
        "  print(\"For Page {0} = {1:.{2}}\".format(i+1,x[i],6)) #Rank of each page from the steady state vector"
      ],
      "metadata": {
        "colab": {
          "base_uri": "https://localhost:8080/"
        },
        "id": "rBbkVEcwE6Lq",
        "outputId": "966df8ee-8741-413e-a261-8db1edcf3e70"
      },
      "execution_count": 64,
      "outputs": [
        {
          "output_type": "stream",
          "name": "stdout",
          "text": [
            "\n",
            "Rank of Each Page can be expressed as \n",
            "\n",
            "For Page 1 = 0.117741\n",
            "For Page 2 = 0.16657\n",
            "For Page 3 = 0.189724\n",
            "For Page 4 = 0.101706\n",
            "For Page 5 = 0.162159\n",
            "For Page 6 = 0.16657\n",
            "For Page 7 = 0.0955314\n"
          ]
        }
      ]
    }
  ]
}