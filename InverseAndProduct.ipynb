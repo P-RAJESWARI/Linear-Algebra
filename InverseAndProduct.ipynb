{
  "nbformat": 4,
  "nbformat_minor": 0,
  "metadata": {
    "colab": {
      "provenance": [],
      "authorship_tag": "ABX9TyMJPvBmh55C/28v6E9jDCU+",
      "include_colab_link": true
    },
    "kernelspec": {
      "name": "python3",
      "display_name": "Python 3"
    },
    "language_info": {
      "name": "python"
    }
  },
  "cells": [
    {
      "cell_type": "markdown",
      "metadata": {
        "id": "view-in-github",
        "colab_type": "text"
      },
      "source": [
        "<a href=\"https://colab.research.google.com/github/P-RAJESWARI/Linear-Algebra/blob/main/InverseAndProduct.ipynb\" target=\"_parent\"><img src=\"https://colab.research.google.com/assets/colab-badge.svg\" alt=\"Open In Colab\"/></a>"
      ]
    },
    {
      "cell_type": "markdown",
      "source": [
        "**Problem Statement:**\n",
        "Given a matrix\n",
        " `A=[[0,1,2],\n",
        "     [1,0,3],\n",
        "    [4,-3,8]]`\n",
        "\n",
        "\n",
        "1.Write a piece of code to calculate the `inverse of the matrix` without using any Python functions to calculate inverse\n",
        "\n",
        "2.Calculate the `product of original matrix A and its inverse`.Create Python program to calculate the product without using any python functions\n",
        "\n",
        "\n",
        "\n"
      ],
      "metadata": {
        "id": "VEejBC46hJqD"
      }
    },
    {
      "cell_type": "markdown",
      "source": [
        "**Steps to solve the problem:**\n",
        "\n",
        "1. **Convert a Matrix to RREF (`rref` function):**\n",
        "   - Make a copy of the original matrix to work with.\n",
        "   - Identify the number of rows and columns in the matrix.\n",
        "   - Start with the first row and look for a leading non-zero element in each column.\n",
        "   - If found, make that element equal to 1 by dividing the row by that element.\n",
        "   - Use row operations to make all other elements in the column zero.\n",
        "   - Move to the next column and repeat until the matrix is in a specific simplified form.\n",
        "   - Return the simplified matrix.\n",
        "\n",
        "2. **Calculate the Inverse of a Matrix (`inverse` function):**\n",
        "   - Check if the matrix is square (equal rows and columns).\n",
        "   - Augment the matrix with an identity matrix (1s along the diagonal, 0s elsewhere).\n",
        "   - Use the RREF function to simplify the augmented matrix.\n",
        "   - Extract the right-hand portion of the simplified matrix, which represents the inverse.\n",
        "   - Return the inverse matrix.\n",
        "\n",
        "3. **Multiply Two Matrices (`matrix_multiply` function):**\n",
        "   - Get the dimensions of the two matrices to ensure they can be multiplied.\n",
        "   - Initialize a result matrix with the appropriate dimensions.\n",
        "   - For each element in the result matrix, multiply corresponding elements from the two input matrices and add them up.\n",
        "   - Repeat for all elements in the result matrix.\n",
        "   - Return the multiplied matrix as the result.\n",
        "\n"
      ],
      "metadata": {
        "id": "AUXpG7P2nAdY"
      }
    },
    {
      "cell_type": "markdown",
      "source": [
        "To find Reduced Row Echolon Form of Augmented matrix(ie.Original matrix augmented with Identitiy Matrix) to find inverse of the matrix"
      ],
      "metadata": {
        "id": "mlOwB-vngLCx"
      }
    },
    {
      "cell_type": "code",
      "source": [
        "# This function converts a matrix into its Reduced Row Echelon Form (RREF)\n",
        "def rref(matrix):\n",
        "    # Create a copy of the matrix to avoid changing the original\n",
        "    mat = [row[:] for row in matrix]\n",
        "\n",
        "    # Get the number of rows and columns in the matrix\n",
        "    rows, cols = len(mat), len(mat[0])\n",
        "\n",
        "    # Initialize the leading variable\n",
        "    lead = 0\n",
        "\n",
        "    # Loop through each row of the matrix\n",
        "    for r in range(rows):\n",
        "        # If the leading variable is greater than or equal to the number of columns, stop the loop\n",
        "        if lead >= cols:\n",
        "            break\n",
        "\n",
        "        # Find a non-zero element in the current column\n",
        "        i = r\n",
        "        while mat[i][lead] == 0:\n",
        "            i += 1\n",
        "            # If we reach the end of the rows, go back to the current row and move to the next column\n",
        "            if i == rows:\n",
        "                i = r\n",
        "                lead += 1\n",
        "                # If we've processed all columns, the matrix is already in RREF, so we're done\n",
        "                if cols == lead:\n",
        "                    return mat\n",
        "\n",
        "        # Swap rows to bring the leading element to the diagonal position\n",
        "        mat[i], mat[r] = mat[r], mat[i]\n",
        "\n",
        "        # Get the value of the leading element\n",
        "        lv = mat[r][lead]\n",
        "\n",
        "        # Make the leading element 1 by dividing the row by its leading element\n",
        "        mat[r] = [mrx / float(lv) for mrx in mat[r]]\n",
        "\n",
        "        # Perform row operations to make other elements in the column zero\n",
        "        for i in range(rows):\n",
        "            if i != r:\n",
        "                lv = mat[i][lead]\n",
        "                mat[i] = [iv - lv * rv for rv, iv in zip(mat[r], mat[i])]\n",
        "\n",
        "        # Move to the next column\n",
        "        lead += 1\n",
        "\n",
        "    # Return the matrix in Reduced Row Echelon Form (RREF)\n",
        "    return mat"
      ],
      "metadata": {
        "id": "aPPsSh1Qfz0Z"
      },
      "execution_count": 2,
      "outputs": []
    },
    {
      "cell_type": "markdown",
      "source": [
        "To find Inverse of the Matrix by using Reduced Row Echolon form ie,=rref() as helper function"
      ],
      "metadata": {
        "id": "Ebc57ZHZgf7h"
      }
    },
    {
      "cell_type": "code",
      "source": [
        "# This function calculates the inverse of a square matrix\n",
        "def inverse(matrix):\n",
        "    # Get the number of rows and columns in the matrix\n",
        "    rows, cols = len(matrix), len(matrix[0])\n",
        "\n",
        "    # Check if the matrix is square (equal number of rows and columns)\n",
        "    if rows != cols:\n",
        "        raise ValueError(\"Input matrix must be square\")\n",
        "\n",
        "    # Augment the matrix with an identity matrix\n",
        "    augmented_matrix = [row + [int(i == j) for j in range(cols)] for i, row in enumerate(matrix)]\n",
        "\n",
        "    # Calculate the RREF of the augmented matrix\n",
        "    rref_matrix = rref(augmented_matrix)\n",
        "\n",
        "    # Extract the inverse matrix from the right-hand side of the RREF matrix (the identity matrix part)\n",
        "    inv_matrix = [row[cols:] for row in rref_matrix]\n",
        "\n",
        "    # Return the inverse matrix\n",
        "    return inv_matrix"
      ],
      "metadata": {
        "id": "2WxEZ5xtf1MY"
      },
      "execution_count": 3,
      "outputs": []
    },
    {
      "cell_type": "markdown",
      "source": [
        "This function is to multiply two matrices which will check the multilication of the given matrix and its Inverse gives Identity Matrix or not"
      ],
      "metadata": {
        "id": "mlXZc_rRg4aV"
      }
    },
    {
      "cell_type": "code",
      "source": [
        "def matrix_multiply(A, inv):\n",
        "    # Get the dimensions of matrices A and inv\n",
        "    arow = len(A)  # Number of rows in matrix A\n",
        "    acol = len(A[0])  # Number of columns in matrix A\n",
        "    inrow = len(inv)  # Number of rows in matrix inv\n",
        "    incol = len(inv[0])  # Number of columns in matrix inv\n",
        "\n",
        "    # Initialize the result matrix with zeros\n",
        "    result = [[0 for _ in range(incol)] for _ in range(arow)]\n",
        "\n",
        "    # Check if matrix multiplication is possible (number of columns in A equals number of rows in inv)\n",
        "    if acol == inrow:\n",
        "        # Perform matrix multiplication\n",
        "        for i in range(arow):  # Loop through each row of matrix A\n",
        "            for j in range(incol):  # Loop through each column of matrix inv\n",
        "                for k in range(inrow):  # Loop through each element for multiplication\n",
        "                    result[i][j] += A[i][k] * inv[k][j]  # Multiply and accumulate the result\n",
        "\n",
        "    # Return the resulting matrix\n",
        "    return result\n"
      ],
      "metadata": {
        "id": "zWIO3wNkhtcu"
      },
      "execution_count": 4,
      "outputs": []
    },
    {
      "cell_type": "code",
      "source": [
        "matrixA = [[0, 1, 2], [1, 0, 3], [4, -3, 8]]  # Define the original matrix A\n",
        "\n",
        "# Calculate the inverse of matrixA using the inverse function\n",
        "inv = inverse(matrixA)\n",
        "\n",
        "print(\"Original matrix A \")\n",
        "for row in matrixA:\n",
        "    print(row)  # Print each row of matrix A\n",
        "print(\"\\nIts inverse is \")\n",
        "for row in inv:\n",
        "    print(row)  # Print each row of the inverse matrix\n",
        "\n",
        "# Perform matrix multiplication of matrixA and its inverse\n",
        "mult = matrix_multiply(matrixA, inv)\n",
        "\n",
        "print(\"\\nMatrix Multiplication of the matrix A \")\n",
        "for row in matrixA:\n",
        "    print(row)  # Print each row of matrix A\n",
        "print(\"\\nand its inverse \")\n",
        "for row in inv:\n",
        "    print(row)  # Print each row of the inverse matrix\n",
        "print(\"\\nis\\n\")\n",
        "for row in mult:\n",
        "    print(row)  # Print each row of the multiplied matrix\n"
      ],
      "metadata": {
        "id": "wJ1YQK_fkzB_",
        "colab": {
          "base_uri": "https://localhost:8080/"
        },
        "outputId": "64b934ad-ff70-4021-e4c7-057fe9ac165a"
      },
      "execution_count": 15,
      "outputs": [
        {
          "output_type": "stream",
          "name": "stdout",
          "text": [
            "Original matrix A \n",
            "[0, 1, 2]\n",
            "[1, 0, 3]\n",
            "[4, -3, 8]\n",
            "\n",
            "Its inverse is \n",
            "[-4.5, 7.0, -1.5]\n",
            "[-2.0, 4.0, -1.0]\n",
            "[1.5, -2.0, 0.5]\n",
            "\n",
            "Matrix Multiplication of the matrix A \n",
            "[0, 1, 2]\n",
            "[1, 0, 3]\n",
            "[4, -3, 8]\n",
            "\n",
            "and its inverse \n",
            "[-4.5, 7.0, -1.5]\n",
            "[-2.0, 4.0, -1.0]\n",
            "[1.5, -2.0, 0.5]\n",
            "\n",
            "is\n",
            "\n",
            "[1.0, 0.0, 0.0]\n",
            "[0.0, 1.0, 0.0]\n",
            "[0.0, 0.0, 1.0]\n"
          ]
        }
      ]
    },
    {
      "cell_type": "code",
      "source": [],
      "metadata": {
        "id": "fPQiIQaWldXW"
      },
      "execution_count": null,
      "outputs": []
    }
  ]
}